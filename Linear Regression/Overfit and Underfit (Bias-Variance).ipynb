{
 "cells": [
  {
   "cell_type": "code",
   "execution_count": 8,
   "id": "70f00eb5-5ebc-4f8c-91e4-f7e651f08826",
   "metadata": {},
   "outputs": [
    {
     "name": "stdout",
     "output_type": "stream",
     "text": [
      "MSE (Mean Squared Error): ) 0.9371394999799155\n",
      "Bias^2:  0.9174947657719276\n",
      "Variance:  0.01964473420798788\n"
     ]
    }
   ],
   "source": [
    "import numpy as np\n",
    "from sklearn.model_selection import train_test_split\n",
    "from sklearn.linear_model import LinearRegression\n",
    "from mlxtend.evaluate import bias_variance_decomp\n",
    "\n",
    "np.random.seed(0)\n",
    "x = np.random.rand(100, 1) * 10\n",
    "y = 2 * x.squeeze() + np.random.randn(100)  # true relationship is y = 2x + noise\n",
    "\n",
    "\n",
    "x_train, x_test, y_train, y_test = train_test_split(x, y, test_size=0.2, random_state = 42)\n",
    "model = LinearRegression()\n",
    "model.fit(x_train, y_train)\n",
    "\n",
    "# calculate bias and variance using the bias_variance_decomp function\n",
    "mse, bias, variance = bias_variance_decomp(model, x_train, y_train, x_test,  y_test, loss = 'mse')\n",
    "\n",
    "print(\"MSE (Mean Squared Error): )\", mse)\n",
    "print(\"Bias^2: \", bias)\n",
    "print(\"Variance: \", variance)"
   ]
  }
 ],
 "metadata": {
  "kernelspec": {
   "display_name": "Python 3 (ipykernel)",
   "language": "python",
   "name": "python3"
  },
  "language_info": {
   "codemirror_mode": {
    "name": "ipython",
    "version": 3
   },
   "file_extension": ".py",
   "mimetype": "text/x-python",
   "name": "python",
   "nbconvert_exporter": "python",
   "pygments_lexer": "ipython3",
   "version": "3.12.1"
  }
 },
 "nbformat": 4,
 "nbformat_minor": 5
}
